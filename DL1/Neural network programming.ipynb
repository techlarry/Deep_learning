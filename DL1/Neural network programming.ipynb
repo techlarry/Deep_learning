{
 "cells": [
  {
   "cell_type": "code",
   "execution_count": 3,
   "metadata": {},
   "outputs": [
    {
     "name": "stdout",
     "output_type": "stream",
     "text": [
      "time: 1.1066350936889648\n",
      "time: 0.020469188690185547\n"
     ]
    }
   ],
   "source": [
    "# comparison of vectorization and explicit for-loop way\n",
    "\n",
    "import numpy as np\n",
    "import time\n",
    "import math\n",
    "\n",
    "n = 1000000\n",
    "u = np.zeros((n,1))\n",
    "v = np.zeros((n,1))\n",
    "\n",
    "tic = time.time()\n",
    "for i in range(n):\n",
    "    u[i] = math.exp(v[i])\n",
    "toc = time.time()\n",
    "print('time:', toc-tic)\n",
    "    \n",
    "tic = time.time()\n",
    "u = np.exp(v)\n",
    "toc = time.time()\n",
    "print('time:', toc-tic)\n"
   ]
  },
  {
   "cell_type": "code",
   "execution_count": null,
   "metadata": {
    "collapsed": true
   },
   "outputs": [],
   "source": [
    "# Logist regression derivatives\n",
    "import numpy as np\n",
    "\n",
    "dw = np.zeros(n-x,1)\n",
    "dw = np.dot(x, dz)\n",
    "\n",
    "# z = w' * X\n",
    "z = np.dot(w.T, x) + b\n",
    "A = simga(z)\n",
    "dz = A - Y\n",
    "dw = 1/m*X*dz.T\n",
    "db = 1/m*np.sum(dz)\n",
    "\n",
    "# update w, b by learning rate alpha\n",
    "w -= alpha*dw\n",
    "b -= alpha*db"
   ]
  },
  {
   "cell_type": "code",
   "execution_count": 15,
   "metadata": {},
   "outputs": [
    {
     "name": "stdout",
     "output_type": "stream",
     "text": [
      "[[ 5  7  9]\n",
      " [ 8 10 12]]\n",
      "[[101 102 103]\n",
      " [204 205 206]]\n"
     ]
    }
   ],
   "source": [
    "# demo of broadcasting\n",
    "x = np.array([[1, 2, 3],[4, 5, 6]])\n",
    "y = np.array([4, 5, 6])\n",
    "print(x+y)\n",
    "z = np.array([[100], [200]])\n",
    "print(x+z)"
   ]
  },
  {
   "cell_type": "code",
   "execution_count": 26,
   "metadata": {},
   "outputs": [
    {
     "name": "stdout",
     "output_type": "stream",
     "text": [
      "[ 1.1415527   1.27671108  0.26310593  1.04267236 -0.56249379]\n",
      "(5,)\n",
      "[ 1.1415527   1.27671108  0.26310593  1.04267236 -0.56249379]\n",
      "np.dot(a,a.T) 4.40592340618\n",
      "a [[-0.13303431]\n",
      " [ 2.0640228 ]\n",
      " [-1.80975265]\n",
      " [-0.40918547]\n",
      " [ 0.16943733]]\n",
      "np.dot(a,a.T):  [[ 0.01769813 -0.27458586  0.2407592   0.05443571 -0.02254098]\n",
      " [-0.27458586  4.26019011 -3.73537074 -0.84456813  0.34972251]\n",
      " [ 0.2407592  -3.73537074  3.27520467  0.74052449 -0.30663966]\n",
      " [ 0.05443571 -0.84456813  0.74052449  0.16743275 -0.06933129]\n",
      " [-0.02254098  0.34972251 -0.30663966 -0.06933129  0.02870901]]\n"
     ]
    },
    {
     "ename": "AssertionError",
     "evalue": "",
     "output_type": "error",
     "traceback": [
      "\u001b[0;31m---------------------------------------------------------------------------\u001b[0m",
      "\u001b[0;31mAssertionError\u001b[0m                            Traceback (most recent call last)",
      "\u001b[0;32m<ipython-input-26-5b8bd85b6cbf>\u001b[0m in \u001b[0;36m<module>\u001b[0;34m()\u001b[0m\n\u001b[1;32m     13\u001b[0m \u001b[0;34m\u001b[0m\u001b[0m\n\u001b[1;32m     14\u001b[0m \u001b[0;32massert\u001b[0m\u001b[0;34m(\u001b[0m\u001b[0ma\u001b[0m\u001b[0;34m.\u001b[0m\u001b[0mshape\u001b[0m\u001b[0;34m==\u001b[0m\u001b[0;34m(\u001b[0m\u001b[0;36m5\u001b[0m\u001b[0;34m,\u001b[0m\u001b[0;36m1\u001b[0m\u001b[0;34m)\u001b[0m\u001b[0;34m)\u001b[0m\u001b[0;34m\u001b[0m\u001b[0m\n\u001b[0;32m---> 15\u001b[0;31m \u001b[0;32massert\u001b[0m\u001b[0;34m(\u001b[0m\u001b[0ma\u001b[0m\u001b[0;34m.\u001b[0m\u001b[0mshape\u001b[0m\u001b[0;34m==\u001b[0m\u001b[0;34m(\u001b[0m\u001b[0;36m5\u001b[0m\u001b[0;34m,\u001b[0m\u001b[0;34m)\u001b[0m\u001b[0;34m)\u001b[0m\u001b[0;34m\u001b[0m\u001b[0m\n\u001b[0m",
      "\u001b[0;31mAssertionError\u001b[0m: "
     ]
    }
   ],
   "source": [
    "# numpy quick demo\n",
    "\n",
    "# notice (5,) and (5,1)\n",
    "a = np.random.randn(5) # don't use\n",
    "print(a)\n",
    "print(a.shape)\n",
    "print(a.T)\n",
    "print('np.dot(a,a.T)', np.dot(a,a.T))\n",
    "\n",
    "a = np.random.randn(5,1) # recommand\n",
    "print('a', a)\n",
    "print('np.dot(a,a.T): ',np.dot(a,a.T))\n",
    "\n",
    "assert(a.shape==(5,1))\n",
    "assert(a.shape==(5,))"
   ]
  },
  {
   "cell_type": "code",
   "execution_count": null,
   "metadata": {
    "collapsed": true
   },
   "outputs": [],
   "source": []
  }
 ],
 "metadata": {
  "kernelspec": {
   "display_name": "Python 3",
   "language": "python",
   "name": "python3"
  },
  "language_info": {
   "codemirror_mode": {
    "name": "ipython",
    "version": 3
   },
   "file_extension": ".py",
   "mimetype": "text/x-python",
   "name": "python",
   "nbconvert_exporter": "python",
   "pygments_lexer": "ipython3",
   "version": "3.6.1"
  }
 },
 "nbformat": 4,
 "nbformat_minor": 2
}
