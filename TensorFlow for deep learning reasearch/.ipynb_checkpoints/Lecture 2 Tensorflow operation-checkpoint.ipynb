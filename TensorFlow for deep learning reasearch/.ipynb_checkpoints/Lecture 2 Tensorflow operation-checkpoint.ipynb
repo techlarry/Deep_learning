{
 "cells": [
  {
   "cell_type": "markdown",
   "metadata": {},
   "source": [
    "# Lecture 2 Tensorflow operation\n",
    "\n",
    "## 1 Visualize with TensorBoard"
   ]
  },
  {
   "cell_type": "code",
   "execution_count": 3,
   "metadata": {},
   "outputs": [
    {
     "name": "stdout",
     "output_type": "stream",
     "text": [
      "5\n"
     ]
    }
   ],
   "source": [
    "import tensorflow as tf\n",
    "a = tf.constant(2, name='a')\n",
    "b = tf.constant(3, name='b')\n",
    "x = tf.add(a, b, name='add')\n",
    "with tf.Session() as sess:\n",
    "\twriter = tf.summary.FileWriter('./graphs', sess.graph)\n",
    "\tprint(sess.run(x))\n",
    "writer.close() # close the writer when you're done using it."
   ]
  },
  {
   "cell_type": "markdown",
   "metadata": {},
   "source": [
    " Bash command (to view tensorboard):\n",
    " \n",
    " ```bash\n",
    " tensorboard --logdir='./graphs' --port 6006\n",
    " open http://localhost:6006/#graphs\n",
    " ```\n",
    " \n",
    " ### Explicity name operation, variable\n"
   ]
  },
  {
   "cell_type": "code",
   "execution_count": 4,
   "metadata": {},
   "outputs": [
    {
     "name": "stdout",
     "output_type": "stream",
     "text": [
      "5\n"
     ]
    }
   ],
   "source": [
    "a = tf.constant(2, name='a')\n",
    "b = tf.constant(3, name='b')\n",
    "x = tf.add(a,b,name='add')\n",
    "with tf.Session() as sess:\n",
    "\twriter = tf.summary.FileWriter('./graphs', sess.graph)\n",
    "\tprint(sess.run(x))\n",
    "writer.close() # close the writer when you're done using it."
   ]
  },
  {
   "cell_type": "markdown",
   "metadata": {
    "collapsed": true
   },
   "source": [
    "The figure produced by TensorBoard is as follows:\n",
    "\n",
    "![](images/explicit_name.png)\n",
    "\n",
    "**Note**:  Learn to use TensorBoard well and often. It will help a lot when you build complicated models.\n",
    "\n",
    "## 2 Constant types\n",
    "\n",
    "### Tensors filled with a specific value\n",
    "\n",
    "\n",
    "Using `tensorflow.zeros` to fill tensor with zeors, which is similar to `Numpy`:\n",
    "\n",
    "```python\n",
    "tf.zeros(shape, dtype=tf.float32, name=None)\n",
    "```\n",
    "\n",
    "For example,"
   ]
  },
  {
   "cell_type": "code",
   "execution_count": 6,
   "metadata": {},
   "outputs": [
    {
     "name": "stdout",
     "output_type": "stream",
     "text": [
      "[[0 0 0]\n",
      " [0 0 0]]\n"
     ]
    }
   ],
   "source": [
    "x = tf.zeros([2,3], tf.int32)\n",
    "with tf.Session() as sess:\n",
    "    print(sess.run(x))"
   ]
  },
  {
   "cell_type": "markdown",
   "metadata": {},
   "source": [
    "`tensorflow.zeros_like` return an tensor of zeros with the same shape and type as a given tensor. For example, we may want to have a tensor filled with zeros, with the same shape as `x`:"
   ]
  },
  {
   "cell_type": "code",
   "execution_count": 9,
   "metadata": {},
   "outputs": [
    {
     "name": "stdout",
     "output_type": "stream",
     "text": [
      "[[0 0 0]\n",
      " [0 0 0]]\n"
     ]
    }
   ],
   "source": [
    "y = tf.zeros_like(x)\n",
    "with tf.Session() as sess:\n",
    "    print(sess.run(y))"
   ]
  },
  {
   "cell_type": "markdown",
   "metadata": {},
   "source": [
    "There are other command to fill tensor with a specific value, such as `tensorflow.ones`, `tensorflow.ones_like`, which of usuage is similar to `tensorflow.zeros`,`tensorflow.zeros_like`.\n",
    "\n",
    "`tensorflow.fill` creates a tensor filled with a scalar value:\n",
    "```python\n",
    "tf.fill(dims, value, name=None)\n",
    "```"
   ]
  },
  {
   "cell_type": "code",
   "execution_count": 10,
   "metadata": {},
   "outputs": [
    {
     "name": "stdout",
     "output_type": "stream",
     "text": [
      "[[3 3 3 3]\n",
      " [3 3 3 3]\n",
      " [3 3 3 3]]\n"
     ]
    }
   ],
   "source": [
    "z = tf.fill([3,4],3)\n",
    "with tf.Session() as sess:\n",
    "    print(sess.run(z))"
   ]
  },
  {
   "cell_type": "markdown",
   "metadata": {},
   "source": [
    "### Constants as sequences\n",
    "\n",
    "You can create constants that are sequences, using `tf.linspace`, `tf.range`:\n",
    "\n",
    "```python\n",
    "tf.linspace(start, stop, num, name=None)\n",
    "\n",
    "# create a sequence of num evenly-spaced values are generated beginning at  start. If num > 1, the values in the sequence increase by stop - start / num - 1, so that the last one is exactly stop.\n",
    "# start, stop, num must be scalars\n",
    "# comparable to but slightly different from numpy.linspace\n",
    "# numpy.linspace(start, stop, num=50, endpoint=True, retstep=False, dtype=None)\n",
    "\n",
    "tf.range(start, limit=None, delta=1, dtype=None, name='range')\n",
    "# create a sequence of numbers that begins at start and extends by increments of delta up to but not including limit\n",
    "# slight different from range in Python\n",
    "```"
   ]
  },
  {
   "cell_type": "code",
   "execution_count": 18,
   "metadata": {},
   "outputs": [
    {
     "name": "stdout",
     "output_type": "stream",
     "text": [
      "[ 10.  11.  12.  13.]\n",
      "[ 3  4  5  6  7  8  9 10 11 12 13 14 15 16 17]\n",
      "[ 3  6  9 12 15]\n"
     ]
    }
   ],
   "source": [
    "x = tf.linspace(10.0, 13.0, 4, name='linspace')\n",
    "y = tf.range(3, 18)\n",
    "z= tf.range(3, 18, 3)\n",
    "with tf.Session() as sess:\n",
    "    print(sess.run(x))\n",
    "    print(sess.run(y))\n",
    "    print(sess.run(z))"
   ]
  },
  {
   "cell_type": "markdown",
   "metadata": {},
   "source": [
    "## 3 Math Operations\n",
    "\n",
    "![](images/math_operations.png)"
   ]
  },
  {
   "cell_type": "code",
   "execution_count": 35,
   "metadata": {},
   "outputs": [
    {
     "name": "stdout",
     "output_type": "stream",
     "text": [
      "x1:\n",
      " [[3 6]\n",
      " [2 2]]\n",
      "x2:\n",
      " [[3 6]\n",
      " [4 4]]\n",
      "x3:\n",
      " [[0 0]\n",
      " [0 0]]\n",
      "x4:\n",
      " [[12 12]\n",
      " [ 0  0]]\n",
      "x5:\n",
      " [[ 0  0  6  6]\n",
      " [ 0  0 12 12]\n",
      " [ 0  0  0  0]\n",
      " [ 0  0  0  0]]\n"
     ]
    }
   ],
   "source": [
    "a = tf.constant([[3,6],[0,0]])\n",
    "b = tf.constant([[0,0],[2,2]])\n",
    "x1 = tf.add(a, b)\n",
    "x2 = tf.add_n([a,b,b]) # >> [7 10]. Equivalent to a + b + b\n",
    "x3 = tf.multiply(a, b) # >> [6 12] because mul is element wise\n",
    "x4 = tf.matmul(a, b) # >> ValueError\n",
    "x5 = tf.matmul(tf.reshape(a, [4, 1]), tf.reshape(b, [1, 4])) # >> [[18]]\n",
    "\n",
    "with tf.Session() as sess:\n",
    "    sess.run(a)\n",
    "    sess.run(b)\n",
    "    print('x1:\\n', sess.run(x1))\n",
    "    print('x2:\\n', sess.run(x2))\n",
    "    print('x3:\\n', sess.run(x3))\n",
    "    print('x4:\\n', sess.run(x4))\n",
    "    print('x5:\\n', sess.run(x5))\n",
    "\n"
   ]
  },
  {
   "cell_type": "markdown",
   "metadata": {},
   "source": [
    "## 4 TensorFlow data types:\n",
    "\n",
    "\n",
    "### Python Native Types\n",
    "\n",
    "TensorFlow takes Python natives types: `boolean`, `numeric` (`int`, `float`), `strings`\n",
    "\n",
    "TensorFlow takes in Python native types such as Python boolean values, numeric values (integers, floats), and strings. Single values will be converted to 0-d tensors (or scalars), lists of values will be converted to 1-d tensors (vectors), lists of lists of values will be converted to 2-d tensors (matrices), and so on.\n"
   ]
  },
  {
   "cell_type": "code",
   "execution_count": 49,
   "metadata": {},
   "outputs": [
    {
     "name": "stdout",
     "output_type": "stream",
     "text": [
      "t_0: 19\n",
      "Tensor(\"zeros_like_32:0\", shape=(), dtype=int32)\n",
      "Tensor(\"ones_like_20:0\", shape=(), dtype=int32)\n",
      "t_1: [b'apple', b'peach', b'grape']\n",
      "Tensor(\"zeros_like_33:0\", shape=(3,), dtype=string)\n",
      "t_2: [[True, False, False], [False, False, True], [False, True, False]]\n",
      "Tensor(\"zeros_like_34:0\", shape=(3, 3), dtype=bool)\n",
      "Tensor(\"ones_like_21:0\", shape=(3, 3), dtype=bool)\n"
     ]
    }
   ],
   "source": [
    "tf.InteractiveSession() # open tensorflow interactivesession\n",
    "t_0 = 19   # Treated as a 0-d tensor, or \"scalar\" \n",
    "print('t_0:',t_0)\n",
    "print(tf.zeros_like(t_0))   # ==> 0\n",
    "print(tf.ones_like(t_0))   # ==> 1\n",
    "t_1 = [b\"apple\" ,  b\"peach\" ,  b\"grape\"]   # treated as a 1-d tensor, or \"vector\" \n",
    "print('t_1:',t_1)\n",
    "print(tf.zeros_like(t_1))   # ==> ['' '' '']\n",
    "t_2= [[ True, False, False],  [False, False, True], [False, True ,   False ]]   # treated as a 2-d tensor, or \"matrix\"\n",
    "print('t_2:',t_2)\n",
    "print(tf.zeros_like(t_2))   # ==> 2x2 tensor, all elements are False \n",
    "print(tf.ones_like(t_2))   # ==> 2x2 tensor, all elements are True"
   ]
  },
  {
   "cell_type": "markdown",
   "metadata": {},
   "source": [
    "**Note: Do not use Python native types for tensors because TensorFlow has to infer Python type.**\n",
    "\n",
    "### TensorFlow Native Types\n",
    "\n",
    "Like `NumPy`, `TensorFlow` also its own data types such as `tf.int32`, `tf.float32`. Below is a list of current TensorFlow data types.\n",
    "\n",
    "![](images/tensorflow_data_types.png)\n",
    "\n",
    "### Numpy Data Types\n",
    "\n",
    "By now, you’ve probably noticed the similarity between `NumPy` and `TensorFlow`. `TensorFlow` was designed to integrate seamlessly with `Numpy`, the package that has become the  lingua franca of data science.\n",
    "\n",
    "TensorFlow’s data types are based on those of NumPy; in fact, `np.int32 == tf.int32` returns `True`. You can pass `NumPy` types to `TensorFlow` ops.\n",
    "\n",
    "\n",
    "Example:"
   ]
  },
  {
   "cell_type": "code",
   "execution_count": 52,
   "metadata": {},
   "outputs": [
    {
     "data": {
      "text/plain": [
       "<tf.Tensor 'ones:0' shape=(2, 2) dtype=float32>"
      ]
     },
     "execution_count": 52,
     "metadata": {},
     "output_type": "execute_result"
    }
   ],
   "source": [
    "import numpy as np\n",
    "tf.ones([2, 2],  np.float32)"
   ]
  },
  {
   "cell_type": "code",
   "execution_count": 57,
   "metadata": {},
   "outputs": [
    {
     "data": {
      "text/plain": [
       "<tf.Tensor 'ones_like_22:0' shape=(2, 2) dtype=float64>"
      ]
     },
     "execution_count": 57,
     "metadata": {},
     "output_type": "execute_result"
    }
   ],
   "source": [
    "x = np.zeros((2,2))\n",
    "tf.ones_like(x)"
   ]
  },
  {
   "cell_type": "code",
   "execution_count": null,
   "metadata": {
    "collapsed": true
   },
   "outputs": [],
   "source": []
  }
 ],
 "metadata": {
  "kernelspec": {
   "display_name": "Python 3",
   "language": "python",
   "name": "python3"
  },
  "language_info": {
   "codemirror_mode": {
    "name": "ipython",
    "version": 3
   },
   "file_extension": ".py",
   "mimetype": "text/x-python",
   "name": "python",
   "nbconvert_exporter": "python",
   "pygments_lexer": "ipython3",
   "version": "3.6.1"
  }
 },
 "nbformat": 4,
 "nbformat_minor": 2
}
