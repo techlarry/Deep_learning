{
 "cells": [
  {
   "cell_type": "code",
   "execution_count": 15,
   "metadata": {},
   "outputs": [
    {
     "name": "stdout",
     "output_type": "stream",
     "text": [
      "-14\n",
      "[[-14]]\n",
      "[[-1  2 -3]\n",
      " [ 2 -4  6]\n",
      " [-3  6 -9]]\n",
      "[[-0.88722509 -0.94128018 -2.1999658 ]\n",
      " [-0.67967623  1.33193446 -0.75612585]\n",
      " [ 0.31741623  1.3271727  -0.04311113]]\n"
     ]
    }
   ],
   "source": [
    "import tensorflow as tf\n",
    "import numpy as np\n",
    "\n",
    "x = tf.Variable([[1, -2, 3]], tf.float32, name='x')\n",
    "y = tf.Variable([[-1, 2, -3]], tf.float32, name='y')\n",
    "\n",
    "## inner product\n",
    "inner_product1 = tf.reduce_sum(tf.multiply(x, y))\n",
    "inner_product2 = tf.matmul(x, y, transpose_a=False, transpose_b= True) # different from inner_product1\n",
    "\n",
    "## outer product\n",
    "outer_product2 = tf.matmul(x, y, transpose_a= True)\n",
    "\n",
    "## matrix dot product\n",
    "X = tf.constant(np.random.randn(3,3), name='X')\n",
    "W = tf.constant(np.random.randn(3,3), name='W')\n",
    "matrix_product = tf.matmul(W, X)\n",
    "\n",
    "sess = tf.InteractiveSession()\n",
    "init_op = tf.global_variables_initializer()\n",
    "\n",
    "# run\n",
    "sess.run(init_op)\n",
    "print(sess.run(inner_product1))\n",
    "print(sess.run(inner_product2))\n",
    "print(sess.run(outer_product2))\n",
    "print(sess.run(matrix_product))"
   ]
  },
  {
   "cell_type": "code",
   "execution_count": null,
   "metadata": {
    "collapsed": true
   },
   "outputs": [],
   "source": []
  }
 ],
 "metadata": {
  "kernelspec": {
   "display_name": "Python 3",
   "language": "python",
   "name": "python3"
  },
  "language_info": {
   "codemirror_mode": {
    "name": "ipython",
    "version": 3
   },
   "file_extension": ".py",
   "mimetype": "text/x-python",
   "name": "python",
   "nbconvert_exporter": "python",
   "pygments_lexer": "ipython3",
   "version": "3.6.1"
  }
 },
 "nbformat": 4,
 "nbformat_minor": 2
}
