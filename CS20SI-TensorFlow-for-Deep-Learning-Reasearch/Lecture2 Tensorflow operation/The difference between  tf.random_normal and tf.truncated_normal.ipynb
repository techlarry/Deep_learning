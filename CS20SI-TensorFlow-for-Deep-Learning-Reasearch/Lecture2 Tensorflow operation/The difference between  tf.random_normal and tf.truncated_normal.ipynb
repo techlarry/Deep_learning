{
 "cells": [
  {
   "cell_type": "code",
   "execution_count": null,
   "metadata": {},
   "outputs": [],
   "source": [
    "import tensorflow as tf\n",
    "import matplotlib.pyplot as plt\n",
    "%matplotlib inline\n",
    "Session = tf.InteractiveSession()"
   ]
  },
  {
   "cell_type": "code",
   "execution_count": 12,
   "metadata": {},
   "outputs": [],
   "source": [
    "mean = 0.0\n",
    "std = 1.0\n",
    "shape = (10000,)\n",
    "hist_range = (-5, 5)\n",
    "\n",
    "A = tf.truncated_normal(shape, mean, std)\n",
    "B = tf.random_normal(shape, mean, std)\n",
    "a, b = Session.run([A, B])"
   ]
  },
  {
   "cell_type": "code",
   "execution_count": 15,
   "metadata": {},
   "outputs": [
    {
     "data": {
      "image/png": "[encoded data removed]",
      "text/plain": [
       "<matplotlib.figure.Figure at 0x119bcde80>"
      ]
     },
     "metadata": {},
     "output_type": "display_data"
    }
   ],
   "source": [
    "f, (ax1, ax2) = plt.subplots(2,1)\n",
    "f1 = ax1.hist(a, bins= 100, range=hist_range)\n",
    "f2 = ax2.hist(b, bins= 100, range=hist_range)"
   ]
  },
  {
   "cell_type": "code",
   "execution_count": null,
   "metadata": {
    "collapsed": true
   },
   "outputs": [],
   "source": []
  }
 ],
 "metadata": {
  "kernelspec": {
   "display_name": "Python 3",
   "language": "python",
   "name": "python3"
  }
 },
 "nbformat": 4,
 "nbformat_minor": 2
}
