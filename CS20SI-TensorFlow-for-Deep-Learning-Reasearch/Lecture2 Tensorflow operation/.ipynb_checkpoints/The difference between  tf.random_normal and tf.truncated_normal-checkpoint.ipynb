{
 "cells": [
  {
   "cell_type": "code",
   "execution_count": 2,
   "metadata": {},
   "outputs": [],
   "source": [
    "import tensorflow as tf\n",
    "import matplotlib.pyplot as plt\n",
    "%matplotlib inline\n",
    "Session = tf.InteractiveSession()"
   ]
  },
  {
   "cell_type": "code",
   "execution_count": null,
   "metadata": {},
   "outputs": [],
   "source": [
    "mean = 0.0\n",
    "std = 1.0\n",
    "shape = (10000,)\n",
    "\n",
    "A = tf.truncated_normal(shape, mean, std)\n",
    "B = tf.random_normal(shape, mean, std)\n",
    "a, b = Session.run([A, B])"
   ]
  },
  {
   "cell_type": "code",
   "execution_count": null,
   "metadata": {},
   "outputs": [],
   "source": [
    "plt.subplots(211)\n",
    "plt.hist(a, bins= 100)\n",
    "plt.subplots(212)\n",
    "plt.hist(b, bins= 100)\n",
    "plt.show()"
   ]
  }
 ],
 "metadata": {
  "kernelspec": {
   "display_name": "Python 3",
   "language": "python",
   "name": "python3"
  }
 },
 "nbformat": 4,
 "nbformat_minor": 2
}
