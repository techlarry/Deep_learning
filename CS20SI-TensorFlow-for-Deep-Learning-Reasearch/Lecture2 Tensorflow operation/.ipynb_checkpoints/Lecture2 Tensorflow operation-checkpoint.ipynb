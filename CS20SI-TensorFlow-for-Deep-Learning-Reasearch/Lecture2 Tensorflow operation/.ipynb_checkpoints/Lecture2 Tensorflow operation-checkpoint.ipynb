{
 "cells": [
  {
   "cell_type": "markdown",
   "metadata": {},
   "source": [
    "# Lecture 2 Tensorflow operation\n",
    "\n",
    "\n",
    "## 1 Visualize with TensorBoard"
   ]
  },
  {
   "cell_type": "code",
   "execution_count": 3,
   "metadata": {},
   "outputs": [
    {
     "name": "stdout",
     "output_type": "stream",
     "text": [
      "5\n"
     ]
    }
   ],
   "source": [
    "import tensorflow as tf\n",
    "a = tf.constant(2, name='a')\n",
    "b = tf.constant(3, name='b')\n",
    "x = tf.add(a, b, name='add')\n",
    "with tf.Session() as sess:\n",
    "\twriter = tf.summary.FileWriter('./graphs', sess.graph)\n",
    "\tprint(sess.run(x))\n",
    "writer.close() # close the writer when you're done using it."
   ]
  },
  {
   "cell_type": "markdown",
   "metadata": {},
   "source": [
    " Bash command (to view tensorboard):\n",
    " \n",
    " ```bash\n",
    " tensorboard --logdir='./graphs' --port 6006\n",
    " open http://localhost:6006/#graphs\n",
    " ```\n",
    " \n",
    " ### Explicity name operation, variable\n"
   ]
  },
  {
   "cell_type": "code",
   "execution_count": 4,
   "metadata": {},
   "outputs": [
    {
     "name": "stdout",
     "output_type": "stream",
     "text": [
      "5\n"
     ]
    }
   ],
   "source": [
    "a = tf.constant(2, name='a')\n",
    "b = tf.constant(3, name='b')\n",
    "x = tf.add(a,b,name='add')\n",
    "with tf.Session() as sess:\n",
    "\twriter = tf.summary.FileWriter('./graphs', sess.graph)\n",
    "\tprint(sess.run(x))\n",
    "writer.close() # close the writer when you're done using it."
   ]
  },
  {
   "cell_type": "markdown",
   "metadata": {
    "collapsed": true
   },
   "source": [
    "The figure produced by TensorBoard is as follows:\n",
    "\n",
    "![](images/explicit_name.png)\n",
    "\n",
    "**Note**:  Learn to use TensorBoard well and often. It will help a lot when you build complicated models.\n",
    "\n",
    "## 2 Constant types\n",
    "\n",
    "### Tensors filled with a specific value\n",
    "\n",
    "\n",
    "Using `tensorflow.zeros` to fill tensor with zeors, which is similar to `Numpy`:\n",
    "\n",
    "```python\n",
    "tf.zeros(shape, dtype=tf.float32, name=None)\n",
    "```\n",
    "\n",
    "For example,"
   ]
  },
  {
   "cell_type": "code",
   "execution_count": 6,
   "metadata": {},
   "outputs": [
    {
     "name": "stdout",
     "output_type": "stream",
     "text": [
      "[[0 0 0]\n",
      " [0 0 0]]\n"
     ]
    }
   ],
   "source": [
    "x = tf.zeros([2,3], tf.int32)\n",
    "with tf.Session() as sess:\n",
    "    print(sess.run(x))"
   ]
  },
  {
   "cell_type": "markdown",
   "metadata": {},
   "source": [
    "`tensorflow.zeros_like` return an tensor of zeros with the same shape and type as a given tensor. For example, we may want to have a tensor filled with zeros, with the same shape as `x`:"
   ]
  },
  {
   "cell_type": "code",
   "execution_count": 9,
   "metadata": {},
   "outputs": [
    {
     "name": "stdout",
     "output_type": "stream",
     "text": [
      "[[0 0 0]\n",
      " [0 0 0]]\n"
     ]
    }
   ],
   "source": [
    "y = tf.zeros_like(x)\n",
    "with tf.Session() as sess:\n",
    "    print(sess.run(y))"
   ]
  },
  {
   "cell_type": "markdown",
   "metadata": {},
   "source": [
    "There are other command to fill tensor with a specific value, such as `tensorflow.ones`, `tensorflow.ones_like`, which of usuage is similar to `tensorflow.zeros`,`tensorflow.zeros_like`.\n",
    "\n",
    "`tensorflow.fill` creates a tensor filled with a scalar value:\n",
    "```python\n",
    "tf.fill(dims, value, name=None)\n",
    "```"
   ]
  },
  {
   "cell_type": "code",
   "execution_count": 10,
   "metadata": {},
   "outputs": [
    {
     "name": "stdout",
     "output_type": "stream",
     "text": [
      "[[3 3 3 3]\n",
      " [3 3 3 3]\n",
      " [3 3 3 3]]\n"
     ]
    }
   ],
   "source": [
    "z = tf.fill([3,4],3)\n",
    "with tf.Session() as sess:\n",
    "    print(sess.run(z))"
   ]
  },
  {
   "cell_type": "markdown",
   "metadata": {},
   "source": [
    "### Constants as sequences\n",
    "\n",
    "You can create constants that are sequences, using `tf.linspace`, `tf.range`:\n",
    "\n",
    "```python\n",
    "tf.linspace(start, stop, num, name=None)\n",
    "\n",
    "# create a sequence of num evenly-spaced values are generated beginning at  start. If num > 1, the values in the sequence increase by stop - start / num - 1, so that the last one is exactly stop.\n",
    "# start, stop, num must be scalars\n",
    "# comparable to but slightly different from numpy.linspace\n",
    "# numpy.linspace(start, stop, num=50, endpoint=True, retstep=False, dtype=None)\n",
    "\n",
    "tf.range(start, limit=None, delta=1, dtype=None, name='range')\n",
    "# create a sequence of numbers that begins at start and extends by increments of delta up to but not including limit\n",
    "# slight different from range in Python\n",
    "```"
   ]
  },
  {
   "cell_type": "code",
   "execution_count": 18,
   "metadata": {},
   "outputs": [
    {
     "name": "stdout",
     "output_type": "stream",
     "text": [
      "[ 10.  11.  12.  13.]\n",
      "[ 3  4  5  6  7  8  9 10 11 12 13 14 15 16 17]\n",
      "[ 3  6  9 12 15]\n"
     ]
    }
   ],
   "source": [
    "x = tf.linspace(10.0, 13.0, 4, name='linspace')\n",
    "y = tf.range(3, 18)\n",
    "z= tf.range(3, 18, 3)\n",
    "with tf.Session() as sess:\n",
    "    print(sess.run(x))\n",
    "    print(sess.run(y))\n",
    "    print(sess.run(z))"
   ]
  },
  {
   "cell_type": "markdown",
   "metadata": {},
   "source": [
    "## 3 Math Operations\n",
    "\n",
    "![](images/math_operations.png)"
   ]
  },
  {
   "cell_type": "code",
   "execution_count": 35,
   "metadata": {},
   "outputs": [
    {
     "name": "stdout",
     "output_type": "stream",
     "text": [
      "x1:\n",
      " [[3 6]\n",
      " [2 2]]\n",
      "x2:\n",
      " [[3 6]\n",
      " [4 4]]\n",
      "x3:\n",
      " [[0 0]\n",
      " [0 0]]\n",
      "x4:\n",
      " [[12 12]\n",
      " [ 0  0]]\n",
      "x5:\n",
      " [[ 0  0  6  6]\n",
      " [ 0  0 12 12]\n",
      " [ 0  0  0  0]\n",
      " [ 0  0  0  0]]\n"
     ]
    }
   ],
   "source": [
    "a = tf.constant([[3,6],[0,0]])\n",
    "b = tf.constant([[0,0],[2,2]])\n",
    "x1 = tf.add(a, b)\n",
    "x2 = tf.add_n([a,b,b]) # >> [7 10]. Equivalent to a + b + b\n",
    "x3 = tf.multiply(a, b) # >> [6 12] because mul is element wise\n",
    "x4 = tf.matmul(a, b) # >> ValueError\n",
    "x5 = tf.matmul(tf.reshape(a, [4, 1]), tf.reshape(b, [1, 4])) # >> [[18]]\n",
    "\n",
    "with tf.Session() as sess:\n",
    "    sess.run(a)\n",
    "    sess.run(b)\n",
    "    print('x1:\\n', sess.run(x1))\n",
    "    print('x2:\\n', sess.run(x2))\n",
    "    print('x3:\\n', sess.run(x3))\n",
    "    print('x4:\\n', sess.run(x4))\n",
    "    print('x5:\\n', sess.run(x5))"
   ]
  },
  {
   "cell_type": "markdown",
   "metadata": {},
   "source": [
    "## 4 TensorFlow data types:\n",
    "\n",
    "\n",
    "### Python Native Types\n",
    "\n",
    "TensorFlow takes Python natives types: `boolean`, `numeric` (`int`, `float`), `strings`\n",
    "\n",
    "TensorFlow takes in Python native types such as Python boolean values, numeric values (integers, floats), and strings. Single values will be converted to 0-d tensors (or scalars), lists of values will be converted to 1-d tensors (vectors), lists of lists of values will be converted to 2-d tensors (matrices), and so on.\n"
   ]
  },
  {
   "cell_type": "code",
   "execution_count": 49,
   "metadata": {},
   "outputs": [
    {
     "name": "stdout",
     "output_type": "stream",
     "text": [
      "t_0: 19\n",
      "Tensor(\"zeros_like_32:0\", shape=(), dtype=int32)\n",
      "Tensor(\"ones_like_20:0\", shape=(), dtype=int32)\n",
      "t_1: [b'apple', b'peach', b'grape']\n",
      "Tensor(\"zeros_like_33:0\", shape=(3,), dtype=string)\n",
      "t_2: [[True, False, False], [False, False, True], [False, True, False]]\n",
      "Tensor(\"zeros_like_34:0\", shape=(3, 3), dtype=bool)\n",
      "Tensor(\"ones_like_21:0\", shape=(3, 3), dtype=bool)\n"
     ]
    }
   ],
   "source": [
    "tf.InteractiveSession() # open tensorflow interactivesession\n",
    "t_0 = 19   # Treated as a 0-d tensor, or \"scalar\" \n",
    "print('t_0:',t_0)\n",
    "print(tf.zeros_like(t_0))   # ==> 0\n",
    "print(tf.ones_like(t_0))   # ==> 1\n",
    "t_1 = [b\"apple\" ,  b\"peach\" ,  b\"grape\"]   # treated as a 1-d tensor, or \"vector\" \n",
    "print('t_1:',t_1)\n",
    "print(tf.zeros_like(t_1))   # ==> ['' '' '']\n",
    "t_2= [[ True, False, False],  [False, False, True], [False, True ,   False ]]   # treated as a 2-d tensor, or \"matrix\"\n",
    "print('t_2:',t_2)\n",
    "print(tf.zeros_like(t_2))   # ==> 2x2 tensor, all elements are False \n",
    "print(tf.ones_like(t_2))   # ==> 2x2 tensor, all elements are True"
   ]
  },
  {
   "cell_type": "markdown",
   "metadata": {},
   "source": [
    "**Note: Do not use Python native types for tensors because TensorFlow has to infer Python type.**\n",
    "\n",
    "### TensorFlow Native Types\n",
    "\n",
    "Like `NumPy`, `TensorFlow` also its own data types such as `tf.int32`, `tf.float32`. Below is a list of current TensorFlow data types.\n",
    "\n",
    "![](images/tensorflow_data_types.png)\n",
    "\n",
    "### Numpy Data Types\n",
    "\n",
    "By now, you’ve probably noticed the similarity between `NumPy` and `TensorFlow`. `TensorFlow` was designed to integrate seamlessly with `Numpy`, the package that has become the  lingua franca of data science.\n",
    "\n",
    "TensorFlow’s data types are based on those of NumPy; in fact, `np.int32 == tf.int32` returns `True`. You can pass `NumPy` types to `TensorFlow` ops.\n",
    "\n",
    "\n",
    "Example:"
   ]
  },
  {
   "cell_type": "code",
   "execution_count": 52,
   "metadata": {},
   "outputs": [
    {
     "data": {
      "text/plain": [
       "<tf.Tensor 'ones:0' shape=(2, 2) dtype=float32>"
      ]
     },
     "execution_count": 52,
     "metadata": {},
     "output_type": "execute_result"
    }
   ],
   "source": [
    "import numpy as np\n",
    "tf.ones([2, 2],  np.float32)"
   ]
  },
  {
   "cell_type": "code",
   "execution_count": 57,
   "metadata": {},
   "outputs": [
    {
     "data": {
      "text/plain": [
       "<tf.Tensor 'ones_like_22:0' shape=(2, 2) dtype=float64>"
      ]
     },
     "execution_count": 57,
     "metadata": {},
     "output_type": "execute_result"
    }
   ],
   "source": [
    "x = np.zeros((2,2))\n",
    "tf.ones_like(x)"
   ]
  },
  {
   "cell_type": "markdown",
   "metadata": {},
   "source": [
    "### Constant\n",
    "\n",
    "Constants are stored in the graph definition. This makes loading graphs expensive when constants are big. **Only use constants for primitive types, use variables or readers for more data that requires more memory**.\n"
   ]
  },
  {
   "cell_type": "code",
   "execution_count": 62,
   "metadata": {},
   "outputs": [
    {
     "name": "stdout",
     "output_type": "stream",
     "text": [
      "node {\n",
      "  name: \"my_const\"\n",
      "  op: \"Const\"\n",
      "  attr {\n",
      "    key: \"dtype\"\n",
      "    value {\n",
      "      type: DT_FLOAT\n",
      "    }\n",
      "  }\n",
      "  attr {\n",
      "    key: \"value\"\n",
      "    value {\n",
      "      tensor {\n",
      "        dtype: DT_FLOAT\n",
      "        tensor_shape {\n",
      "          dim {\n",
      "            size: 2\n",
      "          }\n",
      "        }\n",
      "        tensor_content: \"\\000\\000\\200?\\000\\000\\000@\"\n",
      "      }\n",
      "    }\n",
      "  }\n",
      "}\n",
      "versions {\n",
      "  producer: 24\n",
      "}\n",
      "\n"
     ]
    }
   ],
   "source": [
    "g = tf.Graph() # to add operators to a graph, set it as default:\n",
    "with g.as_default():\n",
    "    my_const = tf.constant([1.0, 2.0], name=\"my_const\")\n",
    "    with tf.Session() as sess:\n",
    "        print(sess.graph.as_graph_def())"
   ]
  },
  {
   "cell_type": "markdown",
   "metadata": {},
   "source": [
    "### Variables\n",
    "\n",
    "`tf.constant` is an operation, but `tf.Variable` is a class. `tf.Variables` holds several operations:"
   ]
  },
  {
   "cell_type": "code",
   "execution_count": 95,
   "metadata": {
    "collapsed": true
   },
   "outputs": [],
   "source": [
    "tf.InteractiveSession()\n",
    "xx = tf.Variable(23, name='scalar')\n",
    "xx.initializer # init op\n",
    "xx.value() # read op\n",
    "assign_op = xx.assign(5)\n"
   ]
  },
  {
   "cell_type": "markdown",
   "metadata": {},
   "source": [
    "You have to initilize `variables`, The easiest way is initializing all variables at once:"
   ]
  },
  {
   "cell_type": "code",
   "execution_count": 97,
   "metadata": {},
   "outputs": [
    {
     "name": "stdout",
     "output_type": "stream",
     "text": [
      "23\n",
      "5\n"
     ]
    }
   ],
   "source": [
    "init = tf.global_variables_initializer()\n",
    "with tf.Session() as sess:\n",
    "    sess.run(init)\n",
    "    print(xx.eval())\n",
    "    sess.run(assign_op)\n",
    "    print(xx.eval())"
   ]
  },
  {
   "cell_type": "markdown",
   "metadata": {},
   "source": [
    "#### Each session maintains its own copy of variable"
   ]
  },
  {
   "cell_type": "code",
   "execution_count": 100,
   "metadata": {},
   "outputs": [
    {
     "name": "stdout",
     "output_type": "stream",
     "text": [
      "20\n",
      "8\n"
     ]
    }
   ],
   "source": [
    "W = tf.Variable(10, name='W')\n",
    "sess1 = tf.Session()\n",
    "sess2 = tf.Session()\n",
    "sess1.run(W.initializer)\n",
    "sess2.run(W.initializer)\n",
    "print(sess1.run(W.assign_add(10)))\n",
    "print(sess2.run(W.assign_sub(2))) # not 18!\n",
    "\n",
    "sess1.close()\n",
    "sess2.close()"
   ]
  },
  {
   "cell_type": "markdown",
   "metadata": {},
   "source": [
    "#### Use a variable to initialize another variable"
   ]
  },
  {
   "cell_type": "code",
   "execution_count": 109,
   "metadata": {},
   "outputs": [
    {
     "name": "stdout",
     "output_type": "stream",
     "text": [
      "[[ 1.11442947 -3.1675539 ]\n",
      " [ 3.02267933 -0.81786388]\n",
      " [ 2.57613969 -0.98440802]\n",
      " [ 0.6298722  -0.38194153]]\n"
     ]
    }
   ],
   "source": [
    "# want to declare U = 2*W\n",
    "# W is random tesnor\n",
    "W = tf.Variable(tf.truncated_normal([4, 2]))\n",
    "U = tf.Variable(2*W.initialized_value())\n",
    "with tf.Session() as sess:\n",
    "    sess.run(U.initializer)\n",
    "    print(U.eval())"
   ]
  },
  {
   "cell_type": "markdown",
   "metadata": {},
   "source": [
    "#### Session vs InteractiveSession,\n",
    "\n",
    "You sometims see InteractiveSession instead of Session. The only difference is an InteractiveSession makes itself the default.\n"
   ]
  },
  {
   "cell_type": "code",
   "execution_count": 110,
   "metadata": {},
   "outputs": [
    {
     "name": "stdout",
     "output_type": "stream",
     "text": [
      "30.0\n"
     ]
    }
   ],
   "source": [
    "sess = tf.InteractiveSession()\n",
    "a = tf.constant(5.0)\n",
    "b = tf.constant(6.0)\n",
    "c = a*b\n",
    "# We can just use `c.eval()` with out specifying the context `sess`\n",
    "print(c.eval())\n",
    "sess.close()"
   ]
  },
  {
   "cell_type": "markdown",
   "metadata": {},
   "source": [
    "### Placeholder\n",
    "\n",
    "A TensorFlow program often has 2 phases:\n",
    "\n",
    "1. Assemble a graph\n",
    "2. Use a session to execute operations in the graph\n",
    "\n",
    "$\\rightarrow$ can assemble the graph without knowing the values needed for computation\n",
    "\n",
    "**Analogy**: Can define the function $f(x,y) = x*2+y$ without knowing value of $x$ or $y$.\n",
    "\n",
    "So using `placeholders`, we can later supply their data when they needed to execute the computation.\n",
    "\n",
    "```\n",
    "tf.placeholder(dtype, shape=None, name=None_\n",
    "```\n",
    "\n",
    "`shape=None` means that tensor of nay shape will be accepted as value for placeholder. `shape=None` is easy to constrcut graphs, but nighmarish for debugging."
   ]
  },
  {
   "cell_type": "markdown",
   "metadata": {},
   "source": [
    "### Lazy loading\n",
    "\n",
    "`Lazy loading` means defer creating/initialzing an object until it is needed.\n",
    "\n",
    "\n",
    "Normal loading:"
   ]
  },
  {
   "cell_type": "code",
   "execution_count": 129,
   "metadata": {
    "collapsed": true
   },
   "outputs": [],
   "source": [
    "g = tf.Graph()\n",
    "with g.as_default():\n",
    "    x = tf.Variable(10, name='x')\n",
    "    y = tf.Variable(20, name='y')\n",
    "    z = tf.add(x,y) # you create the node for add node befre executing the graph\n",
    "\n",
    "    with tf.Session() as sess:\n",
    "        sess.run(tf.global_variables_initializer())\n",
    "        for _ in range(10):\n",
    "            sess.run(z)\n"
   ]
  },
  {
   "cell_type": "markdown",
   "metadata": {},
   "source": [
    "Lazy loading:"
   ]
  },
  {
   "cell_type": "code",
   "execution_count": 128,
   "metadata": {
    "collapsed": true
   },
   "outputs": [],
   "source": [
    "g = tf.Graph()\n",
    "with g.as_default():\n",
    "    x = tf.Variable(10, name='x')\n",
    "    y = tf.Variable(20, name='y')\n",
    "\n",
    "    with tf.Session() as sess:\n",
    "        sess.run(tf.global_variables_initializer())\n",
    "        writer = tf.summary.FileWriter('./my_graph/12', sess.graph)\n",
    "        for _ in range(10):\n",
    "            sess.run(tf.add(x,y)) # someone decides to be clever to save one line of code\n",
    "        writer.close()"
   ]
  },
  {
   "cell_type": "markdown",
   "metadata": {},
   "source": [
    "Note: In Lazy loading, Node `ADD` added 10 times to the graph definition. Image you want to compute an operations thousands of times, you graph gets bloated slow to load, and expensive to pass around.\n",
    "\n",
    "**Solution**: \n",
    "\n",
    "1. Separate definition of ops from computing/running ops\n",
    "2. Use Python property to ensure function is also loaded once the first time it is called.\n"
   ]
  }
 ],
 "metadata": {
  "kernelspec": {
   "display_name": "Python 3",
   "language": "python",
   "name": "python3"
  },
  "language_info": {
   "codemirror_mode": {
    "name": "ipython",
    "version": 3
   },
   "file_extension": ".py",
   "mimetype": "text/x-python",
   "name": "python",
   "nbconvert_exporter": "python",
   "pygments_lexer": "ipython3",
   "version": "3.6.1"
  }
 },
 "nbformat": 4,
 "nbformat_minor": 2
}
